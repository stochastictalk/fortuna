{
 "cells": [
  {
   "cell_type": "code",
   "execution_count": null,
   "metadata": {},
   "outputs": [
    {
     "ename": "",
     "evalue": "",
     "output_type": "error",
     "traceback": [
      "\u001b[1;31mFailed to start the Kernel. \n",
      "\u001b[1;31mJupyter server crashed. Unable to connect. \n",
      "\u001b[1;31mError code from Jupyter: 1\n",
      "\u001b[1;31musage: jupyter.py [-h] [--version] [--config-dir] [--data-dir] [--runtime-dir]\n",
      "\u001b[1;31m                  [--paths] [--json] [--debug]\n",
      "\u001b[1;31m                  [subcommand]\n",
      "\u001b[1;31m\n",
      "\u001b[1;31mJupyter: Interactive Computing\n",
      "\u001b[1;31m\n",
      "\u001b[1;31mpositional arguments:\n",
      "\u001b[1;31m  subcommand     the subcommand to launch\n",
      "\u001b[1;31m\n",
      "\u001b[1;31moptional arguments:\n",
      "\u001b[1;31m  -h, --help     show this help message and exit\n",
      "\u001b[1;31m  --version      show the versions of core jupyter packages and exit\n",
      "\u001b[1;31m  --config-dir   show Jupyter config dir\n",
      "\u001b[1;31m  --data-dir     show Jupyter data dir\n",
      "\u001b[1;31m  --runtime-dir  show Jupyter runtime dir\n",
      "\u001b[1;31m  --paths        show all Jupyter paths. Add --json for machine-readable\n",
      "\u001b[1;31m                 format.\n",
      "\u001b[1;31m  --json         output paths as machine-readable json\n",
      "\u001b[1;31m  --debug        output debug information about paths\n",
      "\u001b[1;31m\n",
      "\u001b[1;31mAvailable subcommands:\n",
      "\u001b[1;31m\n",
      "\u001b[1;31mJupyter command `jupyter-notebook` not found. \n",
      "\u001b[1;31mView Jupyter <a href='command:jupyter.viewOutput'>log</a> for further details."
     ]
    }
   ],
   "source": [
    "# Instructions for labelling images.\n",
    "\n"
   ]
  },
  {
   "cell_type": "code",
   "execution_count": null,
   "metadata": {},
   "outputs": [],
   "source": [
    "# First initialize datasets. These are used for training and evaluating the model.\n",
    "\n",
    "from pathlib import Path\n",
    "from random import sample\n",
    "\n",
    "from fortuna import ObjectDetectionDataset\n",
    "from fortuna.data import pedestrians_dirpath\n",
    "import fortuna.torchutils.transforms as T\n",
    "\n",
    "# Specify paths to images and masks.\n",
    "image_paths = sorted((pedestrians_dirpath / \"Images\").rglob(\"*\"))\n",
    "mask_paths = sorted((pedestrians_dirpath / \"Masks\").rglob(\"*\"))\n",
    "\n",
    "# We're going to use a random subsample of the dataset to validate the model.\n",
    "n = len(image_paths)\n",
    "training_fraction = 0.9\n",
    "training_ix = sample(range(n), int(training_fraction*n))\n",
    "validation_ix = list(set(range(n)) - set(training_ix))\n",
    "\n",
    "# Create ObjectDetectionDatasets for training and validation.\n",
    "training_dataset = ObjectDetectionDataset(\n",
    "    image_paths=image_paths[training_ix],\n",
    "    mask_paths=mask_paths[training_ix],\n",
    "    transforms=[T.RandomHorizontalFlip(0.5)]\n",
    ")\n",
    "validation_dataset = ObjectDetectionDataset(\n",
    "    image_paths=image_paths[validation_ix],\n",
    "    mask_paths=mask_paths[validation_ix]\n",
    ")"
   ]
  },
  {
   "cell_type": "code",
   "execution_count": null,
   "metadata": {},
   "outputs": [],
   "source": [
    "# Initialize and fit the object detector.\n",
    "\n",
    "from fortuna import ObjectDetectionModel\n",
    "from fortuna.data import penn_fudan_dirpath\n",
    "\n",
    "model = ObjectDetectionModel(n_classes=2)\n",
    "\n",
    "model.fit(\n",
    "    training_dataset,\n",
    "    validation_dataset\n",
    ")"
   ]
  },
  {
   "cell_type": "code",
   "execution_count": null,
   "metadata": {},
   "outputs": [],
   "source": [
    "# Evaluate the detector.\n",
    "\n",
    "model.evaluate(\n",
    "    validation_dataset\n",
    ")"
   ]
  },
  {
   "cell_type": "code",
   "execution_count": null,
   "metadata": {},
   "outputs": [],
   "source": [
    "# Export model.\n",
    "\n",
    "model.write(\"path_to_model_file.onnx\") # Export as e.g. ONNX model."
   ]
  }
 ],
 "metadata": {
  "kernelspec": {
   "display_name": "venv",
   "language": "python",
   "name": "python3"
  },
  "language_info": {
   "name": "python",
   "version": "3.8.10"
  },
  "orig_nbformat": 4,
  "vscode": {
   "interpreter": {
    "hash": "3fa1d062a45f38cd6e6e990d694ac8adf2db69accfdb7573edc8f68c95dca34a"
   }
  }
 },
 "nbformat": 4,
 "nbformat_minor": 2
}
