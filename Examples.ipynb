{
 "cells": [
  {
   "cell_type": "code",
   "execution_count": null,
   "metadata": {
    "tags": []
   },
   "outputs": [],
   "source": [
    "# First initialize datasets. These are used for training and evaluating the model.\n",
    "\n",
    "from pathlib import Path\n",
    "from random import sample\n",
    "\n",
    "from fortuna import ObjectDetectionDataset\n",
    "from fortuna.data import pedestrians_dirpath\n",
    "import fortuna.torchutils.transforms as T\n",
    "\n",
    "# Specify paths to images and masks.\n",
    "image_paths = sorted((pedestrians_dirpath / \"Images\").rglob(\"*\"))\n",
    "mask_paths = sorted((pedestrians_dirpath / \"Masks\").rglob(\"*\"))\n",
    "\n",
    "# We're going to use a random subsample of the dataset to validate the model.\n",
    "n = 10 # len(image_paths)\n",
    "training_fraction = 0.9\n",
    "training_ix = sample(range(n), int(training_fraction*n))\n",
    "validation_ix = list(set(range(n)) - set(training_ix))\n",
    "\n",
    "# Create ObjectDetectionDatasets for training and validation.\n",
    "training_dataset = ObjectDetectionDataset(\n",
    "    image_paths=[image_paths[j] for j in training_ix],\n",
    "    mask_paths=[mask_paths[j] for j in training_ix],\n",
    "    transforms=[T.RandomHorizontalFlip(0.5)]\n",
    ")\n",
    "validation_dataset = ObjectDetectionDataset(\n",
    "    image_paths=[image_paths[j] for j in validation_ix],\n",
    "    mask_paths=[mask_paths[j] for j in validation_ix]\n",
    ")"
   ]
  },
  {
   "cell_type": "code",
   "execution_count": null,
   "metadata": {
    "tags": []
   },
   "outputs": [],
   "source": [
    "# Initialize and fit the object detector.\n",
    "\n",
    "from fortuna import ObjectDetectionModel\n",
    "from fortuna.data import pedestrians_dirpath\n",
    "\n",
    "model = ObjectDetectionModel(n_classes=2)\n",
    "\n",
    "model.fit(\n",
    "    training_dataset,\n",
    "    validation_dataset\n",
    ")"
   ]
  },
  {
   "cell_type": "code",
   "execution_count": null,
   "metadata": {},
   "outputs": [],
   "source": [
    "# Evaluate the detector.\n",
    "\n",
    "model.evaluate(\n",
    "    validation_dataset\n",
    ")"
   ]
  },
  {
   "cell_type": "code",
   "execution_count": null,
   "metadata": {},
   "outputs": [],
   "source": [
    "# Export model.\n",
    "\n",
    "model.write(\"path_to_model_file.onnx\") # Export as e.g. ONNX model."
   ]
  }
 ],
 "metadata": {
  "kernelspec": {
   "display_name": "Python 3 (ipykernel)",
   "language": "python",
   "name": "python3"
  },
  "language_info": {
   "codemirror_mode": {
    "name": "ipython",
    "version": 3
   },
   "file_extension": ".py",
   "mimetype": "text/x-python",
   "name": "python",
   "nbconvert_exporter": "python",
   "pygments_lexer": "ipython3",
   "version": "3.8.10"
  },
  "vscode": {
   "interpreter": {
    "hash": "3fa1d062a45f38cd6e6e990d694ac8adf2db69accfdb7573edc8f68c95dca34a"
   }
  }
 },
 "nbformat": 4,
 "nbformat_minor": 4
}
