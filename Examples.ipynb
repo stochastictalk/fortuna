{
 "cells": [
  {
   "cell_type": "code",
   "execution_count": 1,
   "metadata": {},
   "outputs": [
    {
     "ename": "ModuleNotFoundError",
     "evalue": "No module named 'objection._HiddenPrints'",
     "output_type": "error",
     "traceback": [
      "\u001b[0;31m---------------------------------------------------------------------------\u001b[0m",
      "\u001b[0;31mModuleNotFoundError\u001b[0m                       Traceback (most recent call last)",
      "Cell \u001b[0;32mIn[1], line 10\u001b[0m\n\u001b[1;32m      1\u001b[0m \u001b[39m# We'll be using data from this directory, which is built into the package.\u001b[39;00m\n\u001b[1;32m      2\u001b[0m \u001b[39m# Its structured like this:\u001b[39;00m\n\u001b[1;32m      3\u001b[0m \u001b[39m# |- result.json\u001b[39;00m\n\u001b[0;32m   (...)\u001b[0m\n\u001b[1;32m      7\u001b[0m \u001b[39m# |----- ...\u001b[39;00m\n\u001b[1;32m      8\u001b[0m \u001b[39m# This structure is important, since its exploited in order to load the images correctly.\u001b[39;00m\n\u001b[0;32m---> 10\u001b[0m \u001b[39mfrom\u001b[39;00m \u001b[39mobjection\u001b[39;00m\u001b[39m.\u001b[39;00m\u001b[39mdata\u001b[39;00m \u001b[39mimport\u001b[39;00m hats_dirpath\n\u001b[1;32m     12\u001b[0m hats_dirpath\n",
      "File \u001b[0;32m~/fortuna/src/objection/__init__.py:1\u001b[0m\n\u001b[0;32m----> 1\u001b[0m \u001b[39mfrom\u001b[39;00m \u001b[39m.\u001b[39;00m\u001b[39m_ObjectDetectionModel\u001b[39;00m \u001b[39mimport\u001b[39;00m ObjectDetectionModel\n\u001b[1;32m      2\u001b[0m \u001b[39mfrom\u001b[39;00m \u001b[39m.\u001b[39;00m\u001b[39m_ObjectDetectionDataset\u001b[39;00m \u001b[39mimport\u001b[39;00m ObjectDetectionDataset\n\u001b[1;32m      4\u001b[0m \u001b[39mtry\u001b[39;00m:\n",
      "File \u001b[0;32m~/fortuna/src/objection/_ObjectDetectionModel.py:12\u001b[0m\n\u001b[1;32m     10\u001b[0m \u001b[39mfrom\u001b[39;00m \u001b[39m.\u001b[39;00m\u001b[39m_ObjectDetectionDataset\u001b[39;00m \u001b[39mimport\u001b[39;00m ObjectDetectionDataset\n\u001b[1;32m     11\u001b[0m \u001b[39mfrom\u001b[39;00m \u001b[39m.\u001b[39;00m\u001b[39m_TrainingConfiguration\u001b[39;00m \u001b[39mimport\u001b[39;00m TrainingConfiguration\n\u001b[0;32m---> 12\u001b[0m \u001b[39mfrom\u001b[39;00m \u001b[39m.\u001b[39;00m\u001b[39m_HiddenPrints\u001b[39;00m \u001b[39mimport\u001b[39;00m HiddenPrints\n\u001b[1;32m     15\u001b[0m \u001b[39mclass\u001b[39;00m \u001b[39mObjectDetectionModel\u001b[39;00m:\n\u001b[1;32m     17\u001b[0m     \u001b[39mdef\u001b[39;00m \u001b[39m__init__\u001b[39m(\n\u001b[1;32m     18\u001b[0m         \u001b[39mself\u001b[39m,\n\u001b[1;32m     19\u001b[0m         n_classes: \u001b[39mint\u001b[39m \u001b[39m=\u001b[39m \u001b[39m2\u001b[39m,\n\u001b[1;32m     20\u001b[0m         mode: \u001b[39mstr\u001b[39m \u001b[39m=\u001b[39m \u001b[39m\"\u001b[39m\u001b[39mfast\u001b[39m\u001b[39m\"\u001b[39m\n\u001b[1;32m     21\u001b[0m         ):\n",
      "\u001b[0;31mModuleNotFoundError\u001b[0m: No module named 'objection._HiddenPrints'"
     ]
    }
   ],
   "source": [
    "# We'll be using data from this directory, which is built into the package.\n",
    "from objection.data import hats_dirpath\n",
    "\n",
    "# Its structured like this:\n",
    "# |- result.json\n",
    "# |- images/\n",
    "# |----- image-1.jpg\n",
    "# |----- image-2.jpg\n",
    "# |----- ...\n",
    "# This structure is important, since its exploited in order to load the images correctly.\n",
    "\n",
    "\n",
    "hats_dirpath"
   ]
  },
  {
   "cell_type": "code",
   "execution_count": null,
   "metadata": {},
   "outputs": [],
   "source": [
    "# Load the data and create a training/validation split.\n",
    "\n",
    "from objection import ObjectDetectionDataset\n",
    "from objection.utils import split\n",
    "import objection.torchutils.transforms as T\n",
    "\n",
    "data = ObjectDetectionDataset(hats_dirpath / \"result.json\")\n",
    "training_data, validation_data = split(\n",
    "    data, \n",
    "    training_fraction=0.75,\n",
    "    training_transforms=[T.RandomHorizontalFlip(0.5)]\n",
    ")\n",
    "# If you have separate COCO annotation files for training and validation partitions,\n",
    "# you should instead initialize the training and validation datasets by passing\n",
    "# these annotation files to two separate calls to ObjectDetectionDataset."
   ]
  },
  {
   "cell_type": "code",
   "execution_count": null,
   "metadata": {
    "tags": []
   },
   "outputs": [],
   "source": [
    "# Initialize and fit the object detector.\n",
    "\n",
    "from objection import ObjectDetectionModel\n",
    "\n",
    "model = ObjectDetectionModel(n_classes=1)\n",
    "\n",
    "model.fit(\n",
    "    training_data,\n",
    "    validation_data\n",
    ")"
   ]
  },
  {
   "cell_type": "code",
   "execution_count": null,
   "metadata": {},
   "outputs": [],
   "source": [
    "# Evaluate the detector.\n",
    "\n",
    "model.evaluate(\n",
    "    validation_data\n",
    ")"
   ]
  },
  {
   "cell_type": "code",
   "execution_count": null,
   "metadata": {},
   "outputs": [],
   "source": [
    "# Export model.\n",
    "\n",
    "model.write(\"path_to_model_file.onnx\") # Export as e.g. ONNX model."
   ]
  }
 ],
 "metadata": {
  "kernelspec": {
   "display_name": "Python 3 (ipykernel)",
   "language": "python",
   "name": "python3"
  },
  "language_info": {
   "codemirror_mode": {
    "name": "ipython",
    "version": 3
   },
   "file_extension": ".py",
   "mimetype": "text/x-python",
   "name": "python",
   "nbconvert_exporter": "python",
   "pygments_lexer": "ipython3",
   "version": "3.8.10"
  },
  "vscode": {
   "interpreter": {
    "hash": "3fa1d062a45f38cd6e6e990d694ac8adf2db69accfdb7573edc8f68c95dca34a"
   }
  }
 },
 "nbformat": 4,
 "nbformat_minor": 4
}
