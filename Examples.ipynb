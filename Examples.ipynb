{
 "cells": [
  {
   "cell_type": "code",
   "execution_count": null,
   "metadata": {},
   "outputs": [],
   "source": [
    "# Instructions for labelling images.\n",
    "\n"
   ]
  },
  {
   "cell_type": "code",
   "execution_count": 1,
   "metadata": {},
   "outputs": [
    {
     "ename": "SyntaxError",
     "evalue": "invalid syntax (_get_model.py, line 1)",
     "output_type": "error",
     "traceback": [
      "Traceback \u001b[0;36m(most recent call last)\u001b[0m:\n",
      "\u001b[0m  File \u001b[1;32m~/fortuna/venv/lib/python3.8/site-packages/IPython/core/interactiveshell.py:3442\u001b[0m in \u001b[1;35mrun_code\u001b[0m\n    exec(code_obj, self.user_global_ns, self.user_ns)\u001b[0m\n",
      "\u001b[0m  Cell \u001b[1;32mIn[1], line 6\u001b[0m\n    from fortuna import ObjectDetectionDataset\u001b[0m\n",
      "\u001b[0m  File \u001b[1;32m~/fortuna/src/fortuna/__init__.py:1\u001b[0m\n    from ._ObjectDetectionModel import ObjectDetectionModel\u001b[0m\n",
      "\u001b[0m  File \u001b[1;32m~/fortuna/src/fortuna/_ObjectDetectionModel.py:7\u001b[0m\n    from .models._get_model import get_model\u001b[0m\n",
      "\u001b[0;36m  File \u001b[0;32m~/fortuna/src/fortuna/models/__init__.py:1\u001b[0;36m\n\u001b[0;31m    from ._get_model import get_model\u001b[0;36m\n",
      "\u001b[0;36m  File \u001b[0;32m~/fortuna/src/fortuna/models/_get_model.py:1\u001b[0;36m\u001b[0m\n\u001b[0;31m    <<<<<<< HEAD\u001b[0m\n\u001b[0m    ^\u001b[0m\n\u001b[0;31mSyntaxError\u001b[0m\u001b[0;31m:\u001b[0m invalid syntax\n"
     ]
    }
   ],
   "source": [
    "# First initialize datasets. These are used for training and evaluating the model.\n",
    "\n",
    "from pathlib import Path\n",
    "from random import sample\n",
    "\n",
    "from fortuna import ObjectDetectionDataset\n",
    "from fortuna.data import pedestrians_dirpath\n",
    "import fortuna.torchutils.transforms as T\n",
    "\n",
    "# Specify paths to images and masks.\n",
    "image_paths = sorted((pedestrians_dirpath / \"Images\").rglob(\"*\"))\n",
    "mask_paths = sorted((pedestrians_dirpath / \"Masks\").rglob(\"*\"))\n",
    "\n",
    "# We're going to use a random subsample of the dataset to validate the model.\n",
    "n = 10 # len(image_paths)\n",
    "training_fraction = 0.9\n",
    "training_ix = sample(range(n), int(training_fraction*n))\n",
    "validation_ix = list(set(range(n)) - set(training_ix))\n",
    "\n",
    "# Create ObjectDetectionDatasets for training and validation.\n",
    "training_dataset = ObjectDetectionDataset(\n",
    "    image_paths=[image_paths[j] for j in training_ix],\n",
    "    mask_paths=[mask_paths[j] for j in training_ix],\n",
    "    transforms=[T.RandomHorizontalFlip(0.5)]\n",
    ")\n",
    "validation_dataset = ObjectDetectionDataset(\n",
    "    image_paths=[image_paths[j] for j in validation_ix],\n",
    "    mask_paths=[mask_paths[j] for j in validation_ix]\n",
    ")"
   ]
  },
  {
   "cell_type": "code",
   "execution_count": null,
   "metadata": {},
   "outputs": [],
   "source": [
    "# Initialize the object detection model.\n",
    "\n",
    "from fortuna import ObjectDetectionModel\n",
    "\n",
    "model = ObjectDetectionModel(n_classes=2)"
   ]
  },
  {
   "cell_type": "code",
   "execution_count": null,
   "metadata": {},
   "outputs": [],
   "source": [
    "# Fit the model.\n",
    "\n",
    "model.fit(\n",
    "    training_dataset,\n",
    "    validation_dataset\n",
    ")"
   ]
  },
  {
   "cell_type": "code",
   "execution_count": null,
   "metadata": {},
   "outputs": [],
   "source": [
    "# Evaluate the detector.\n",
    "\n",
    "model.evaluate(\n",
    "    validation_dataset\n",
    ")"
   ]
  },
  {
   "cell_type": "code",
   "execution_count": null,
   "metadata": {},
   "outputs": [],
   "source": [
    "# Export model.\n",
    "\n",
    "model.write(\"path_to_model_file.onnx\") # Export as e.g. ONNX model."
   ]
  }
 ],
 "metadata": {
  "kernelspec": {
   "display_name": "Python 3 (ipykernel)",
   "language": "python",
   "name": "python3"
  },
  "language_info": {
   "codemirror_mode": {
    "name": "ipython",
    "version": 3
   },
   "file_extension": ".py",
   "mimetype": "text/x-python",
   "name": "python",
   "nbconvert_exporter": "python",
   "pygments_lexer": "ipython3",
   "version": "3.8.10"
  },
  "vscode": {
   "interpreter": {
    "hash": "3fa1d062a45f38cd6e6e990d694ac8adf2db69accfdb7573edc8f68c95dca34a"
   }
  }
 },
 "nbformat": 4,
 "nbformat_minor": 2
}
