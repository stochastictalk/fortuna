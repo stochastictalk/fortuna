{
 "cells": [
  {
   "cell_type": "code",
   "execution_count": null,
   "metadata": {},
   "outputs": [],
   "source": [
    "# We'll be using data from this directory, which is built into the package.\n",
    "# Its structured like this:\n",
    "# |- result.json\n",
    "# |- images/\n",
    "# |----- image-1.jpg\n",
    "# |----- image-2.jpg\n",
    "# |----- ...\n",
    "# This structure is important, since its exploited in order to load the images correctly.\n",
    "\n",
    "from objection.data import hats_dirpath\n",
    "\n",
    "hats_dirpath"
   ]
  },
  {
   "cell_type": "code",
   "execution_count": null,
   "metadata": {},
   "outputs": [],
   "source": [
    "# Load the data and create a training/validation split.\n",
    "\n",
    "from objection import ObjectDetectionDataset\n",
    "from objection.utils import split\n",
    "import objection.torchutils.transforms as T\n",
    "\n",
    "data = ObjectDetectionDataset(hats_dirpath / \"result.json\")\n",
    "training_data, validation_data = split(\n",
    "    data, \n",
    "    training_fraction=0.75,\n",
    "    training_transforms=[T.RandomHorizontalFlip(0.5)]\n",
    ")\n",
    "# If you have separate COCO annotation files for training and validation partitions,\n",
    "# you should instead initialize the training and validation datasets by passing\n",
    "# these annotation files to two separate calls to ObjectDetectionDataset."
   ]
  },
  {
   "cell_type": "code",
   "execution_count": null,
   "metadata": {
    "tags": []
   },
   "outputs": [],
   "source": [
    "# Initialize and fit the object detector.\n",
    "\n",
    "from objection import ObjectDetectionModel\n",
    "\n",
    "model = ObjectDetectionModel(n_classes=1)\n",
    "\n",
    "model.fit(\n",
    "    training_data,\n",
    "    validation_data\n",
    ")"
   ]
  },
  {
   "cell_type": "code",
   "execution_count": null,
   "metadata": {},
   "outputs": [],
   "source": [
    "# Evaluate the detector.\n",
    "\n",
    "model.evaluate(\n",
    "    validation_dataset\n",
    ")"
   ]
  },
  {
   "cell_type": "code",
   "execution_count": null,
   "metadata": {},
   "outputs": [],
   "source": [
    "# Export model.\n",
    "\n",
    "model.write(\"path_to_model_file.onnx\") # Export as e.g. ONNX model."
   ]
  }
 ],
 "metadata": {
  "kernelspec": {
   "display_name": "Python 3 (ipykernel)",
   "language": "python",
   "name": "python3"
  },
  "language_info": {
   "codemirror_mode": {
    "name": "ipython",
    "version": 3
   },
   "file_extension": ".py",
   "mimetype": "text/x-python",
   "name": "python",
   "nbconvert_exporter": "python",
   "pygments_lexer": "ipython3",
   "version": "3.9.15"
  },
  "vscode": {
   "interpreter": {
    "hash": "3fa1d062a45f38cd6e6e990d694ac8adf2db69accfdb7573edc8f68c95dca34a"
   }
  }
 },
 "nbformat": 4,
 "nbformat_minor": 4
}
